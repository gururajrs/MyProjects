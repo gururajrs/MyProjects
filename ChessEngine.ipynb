{
 "cells": [
  {
   "cell_type": "code",
   "execution_count": null,
   "id": "ba57ab44",
   "metadata": {},
   "outputs": [],
   "source": [
    "class GameState():\n",
    "    def _init_(self):\n",
    "        self.board=[\n",
    "            [\"bR\",\"bN\",\"bB\",\"bQ\",\"bK\",\"bB\",\"bN\",\"bR\"],\n",
    "            [\"bp\",\"bp\",\"bp\",\"bp\",\"bp\",\"bp\",\"bp\",\"bp\"],\n",
    "            [\"--\",\"--\",\"--\",\"--\",\"--\",\"--\",\"--\",\"--\"],\n",
    "            [\"--\",\"--\",\"--\",\"--\",\"--\",\"--\",\"--\",\"--\"],\n",
    "            [\"--\",\"--\",\"--\",\"--\",\"--\",\"--\",\"--\",\"--\"],\n",
    "            [\"--\",\"--\",\"--\",\"--\",\"--\",\"--\",\"--\",\"--\"],\n",
    "            [\"wp\",\"wp\",\"wp\",\"wp\",\"wp\",\"wp\",\"wp\",\"wp\"],\n",
    "            [\"wR\",\"wN\",\"wB\",\"wQ\",\"wK\",\"wB\",\"wN\",\"wR\"]\n",
    "         ]\n",
    "        self.whiteToMove=True\n",
    "        self.moveLog=[]"
   ]
  }
 ],
 "metadata": {
  "kernelspec": {
   "display_name": "Python 3 (ipykernel)",
   "language": "python",
   "name": "python3"
  },
  "language_info": {
   "codemirror_mode": {
    "name": "ipython",
    "version": 3
   },
   "file_extension": ".py",
   "mimetype": "text/x-python",
   "name": "python",
   "nbconvert_exporter": "python",
   "pygments_lexer": "ipython3",
   "version": "3.9.5"
  }
 },
 "nbformat": 4,
 "nbformat_minor": 5
}
