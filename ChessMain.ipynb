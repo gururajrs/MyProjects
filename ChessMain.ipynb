{
 "cells": [
  {
   "cell_type": "code",
   "execution_count": 1,
   "id": "6428f8b9",
   "metadata": {},
   "outputs": [
    {
     "name": "stdout",
     "output_type": "stream",
     "text": [
      "pygame 2.1.0 (SDL 2.0.16, Python 3.9.5)\n",
      "Hello from the pygame community. https://www.pygame.org/contribute.html\n"
     ]
    },
    {
     "ename": "ModuleNotFoundError",
     "evalue": "No module named 'Chess'",
     "output_type": "error",
     "traceback": [
      "\u001b[1;31m---------------------------------------------------------------------------\u001b[0m",
      "\u001b[1;31mModuleNotFoundError\u001b[0m                       Traceback (most recent call last)",
      "\u001b[1;32m~\\AppData\\Local\\Temp/ipykernel_8512/3721414378.py\u001b[0m in \u001b[0;36m<module>\u001b[1;34m\u001b[0m\n\u001b[0;32m      1\u001b[0m \u001b[1;32mimport\u001b[0m \u001b[0mpygame\u001b[0m \u001b[1;32mas\u001b[0m \u001b[0mp\u001b[0m\u001b[1;33m\u001b[0m\u001b[1;33m\u001b[0m\u001b[0m\n\u001b[1;32m----> 2\u001b[1;33m \u001b[1;32mfrom\u001b[0m \u001b[0mChess\u001b[0m \u001b[1;32mimport\u001b[0m \u001b[0mChessEngine\u001b[0m\u001b[1;33m\u001b[0m\u001b[1;33m\u001b[0m\u001b[0m\n\u001b[0m\u001b[0;32m      3\u001b[0m \u001b[1;33m\u001b[0m\u001b[0m\n\u001b[0;32m      4\u001b[0m \u001b[0mWIDTH\u001b[0m\u001b[1;33m=\u001b[0m\u001b[0mHEIGHT\u001b[0m\u001b[1;33m=\u001b[0m\u001b[1;36m512\u001b[0m\u001b[1;33m\u001b[0m\u001b[1;33m\u001b[0m\u001b[0m\n\u001b[0;32m      5\u001b[0m \u001b[0mDIMENSION\u001b[0m\u001b[1;33m=\u001b[0m\u001b[1;36m8\u001b[0m\u001b[1;33m\u001b[0m\u001b[1;33m\u001b[0m\u001b[0m\n",
      "\u001b[1;31mModuleNotFoundError\u001b[0m: No module named 'Chess'"
     ]
    }
   ],
   "source": [
    "import pygame as p\n",
    "from Chess import ChessEngine\n",
    "\n",
    "WIDTH=HEIGHT=512\n",
    "DIMENSION=8\n",
    "SQ_SIZE=HEIGHT // DIMENSION\n",
    "MAX_FPS=15\n",
    "IMAGES={}\n",
    "\n",
    "def loadImages():\n",
    "    pieces=['wp','wR','wN','wB','wK','wQ','bp','bR','bN','bB','bK','bQ']\n",
    "    for piece in pieces:\n",
    "        IMAGES[piece]=p.tranform.scale(p.images.load(\"images/\" + piece + \".png\"), (SQ_SIZE, SQ_SIZE))\n",
    "        \n",
    "def main():\n",
    "    p.init()\n",
    "    screen=p.display.set_mode((WIDTH,HEIGHT))\n",
    "    clock=p.time.Clock()\n",
    "    screen=fill(p.Color(\"white\"))\n",
    "    gs=ChessEngine.GameState()\n",
    "    loadImages()\n",
    "    running=True\n",
    "    while running:\n",
    "        for e in p.event.get():\n",
    "            if e.type -- p.QUIT:\n",
    "                running=False\n",
    "        drawGameState(screen,gs)\n",
    "        clock.tick(MAX_FPS)\n",
    "        p.display.flip()\n",
    "\n",
    "def drawGameState(screen,gs):\n",
    "    drawBoard(screen)\n",
    "    drawPieces(screen,gs.board)\n",
    "    \n",
    "def drawBoard(screen):\n",
    "    colors=[p.color(\"white\"),p.color(\"gray\")]\n",
    "    for r in range(DIMENSION):\n",
    "        for c in range(DIMENSION):\n",
    "            color=colors[((r+c) %2)]\n",
    "            p.draw.rect(screen,color,p.Rect(c*SQ_SIZE,r*SO_SIZE,SQ_SIZE,SQ_SIZE))\n",
    "\n",
    "def drawPieces(screen,board):\n",
    "    for r in range(DIMENSION):\n",
    "        for c in range(DIMENSION):\n",
    "            piece=board[r][c]\n",
    "            if piece !=\"--\":\n",
    "                screen.blit(IMAGES[piece],p.Rect(c*SQ_SIZE,r*SQ_SIZE,SQ_SIZE,SQ_SIZE))\n",
    "\n",
    "if _name_ -- \"_main_\":\n",
    "    main()\n"
   ]
  },
  {
   "cell_type": "code",
   "execution_count": null,
   "id": "999e75ce",
   "metadata": {},
   "outputs": [],
   "source": []
  },
  {
   "cell_type": "code",
   "execution_count": null,
   "id": "6d7c0bfa",
   "metadata": {},
   "outputs": [],
   "source": []
  },
  {
   "cell_type": "code",
   "execution_count": null,
   "id": "3cb7f766",
   "metadata": {},
   "outputs": [],
   "source": []
  },
  {
   "cell_type": "code",
   "execution_count": null,
   "id": "dc1f2d23",
   "metadata": {},
   "outputs": [],
   "source": []
  }
 ],
 "metadata": {
  "kernelspec": {
   "display_name": "Python 3 (ipykernel)",
   "language": "python",
   "name": "python3"
  },
  "language_info": {
   "codemirror_mode": {
    "name": "ipython",
    "version": 3
   },
   "file_extension": ".py",
   "mimetype": "text/x-python",
   "name": "python",
   "nbconvert_exporter": "python",
   "pygments_lexer": "ipython3",
   "version": "3.9.5"
  }
 },
 "nbformat": 4,
 "nbformat_minor": 5
}
